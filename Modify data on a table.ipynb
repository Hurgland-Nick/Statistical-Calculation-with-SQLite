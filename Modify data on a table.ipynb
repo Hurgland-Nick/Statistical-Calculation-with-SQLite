{
 "cells": [
  {
   "cell_type": "markdown",
   "metadata": {},
   "source": [
    "                                                                                              Hurgland-Nick KELIET"
   ]
  },
  {
   "cell_type": "markdown",
   "metadata": {},
   "source": [
    "                                          Modify data in a table"
   ]
  },
  {
   "cell_type": "markdown",
   "metadata": {},
   "source": [
    "# SHOW the data type of a table (sqlite3)"
   ]
  },
  {
   "cell_type": "markdown",
   "metadata": {},
   "source": [
    "```\n",
    "                        PRAGMA table_info(table) ---------------> PRAGMA table_info(facts)\n",
    "```"
   ]
  },
  {
   "cell_type": "markdown",
   "metadata": {},
   "source": [
    "# INSERT data into a table"
   ]
  },
  {
   "cell_type": "markdown",
   "metadata": {},
   "source": [
    "```\n",
    "                                        INSERT INTO table\n",
    "                                        VALUES (value1,value2,...)\n",
    "```"
   ]
  },
  {
   "cell_type": "markdown",
   "metadata": {},
   "source": [
    "# MODIFY data from a table"
   ]
  },
  {
   "cell_type": "markdown",
   "metadata": {},
   "source": [
    "```\n",
    "                                        UPDATE table\n",
    "                                        SET column1 = value1, column2 = value2\n",
    "                                        WHERE column1 = value3\n",
    "```\n",
    "- NB: Never forget the conditions WHERE, otherwise all the table will have the same values setted."
   ]
  },
  {
   "cell_type": "markdown",
   "metadata": {},
   "source": [
    "# DELETE data from a table"
   ]
  },
  {
   "cell_type": "markdown",
   "metadata": {},
   "source": [
    "```\n",
    "                                        DELETE FROM table\n",
    "                                        WHERE column1 = value1\n",
    "```\n",
    "- NB: Never forget the conditions WHERE, otherwise all the values will be deleted."
   ]
  },
  {
   "cell_type": "markdown",
   "metadata": {},
   "source": [
    "# CREATE Table"
   ]
  },
  {
   "cell_type": "markdown",
   "metadata": {},
   "source": [
    "```\n",
    "                                        CREATE TABLE nom_db.table_name(\n",
    "                                        id integer PRIMARY KEY\n",
    "                                        name text\n",
    "                                        country text\n",
    "                                        );\n",
    "```\n",
    "- NB: We don't have to write nom_db.table_name if we already are in the database we just write CREATE TABLE table_name"
   ]
  },
  {
   "cell_type": "markdown",
   "metadata": {},
   "source": [
    "                                                                                                             END "
   ]
  }
 ],
 "metadata": {
  "kernelspec": {
   "display_name": "Python 3",
   "language": "python",
   "name": "python3"
  },
  "language_info": {
   "codemirror_mode": {
    "name": "ipython",
    "version": 3
   },
   "file_extension": ".py",
   "mimetype": "text/x-python",
   "name": "python",
   "nbconvert_exporter": "python",
   "pygments_lexer": "ipython3",
   "version": "3.6.9"
  }
 },
 "nbformat": 4,
 "nbformat_minor": 2
}
