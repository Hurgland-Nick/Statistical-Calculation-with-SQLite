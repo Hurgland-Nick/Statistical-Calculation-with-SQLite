{
 "cells": [
  {
   "cell_type": "markdown",
   "metadata": {},
   "source": [
    "                                                                                                Hurgland-Nick KELIET"
   ]
  },
  {
   "cell_type": "markdown",
   "metadata": {},
   "source": [
    "                                       Statistic calculation in sql"
   ]
  },
  {
   "cell_type": "markdown",
   "metadata": {},
   "source": [
    "# Find the minimum and maximum values of a column in sql\n",
    "\n"
   ]
  },
  {
   "cell_type": "code",
   "execution_count": 51,
   "metadata": {},
   "outputs": [],
   "source": [
    "#Import of library\n",
    "import sqlite3\n",
    "\n",
    "#Connect on database\n",
    "connection = sqlite3.connect('factbook.db')\n",
    "\n",
    "# MINIMUM of population_growth\n",
    "pop_growth_min = connection.execute('select min(population_growth) from facts;').fetchall()"
   ]
  },
  {
   "cell_type": "code",
   "execution_count": 52,
   "metadata": {},
   "outputs": [
    {
     "name": "stdout",
     "output_type": "stream",
     "text": [
      "[(0.0,)]\n"
     ]
    }
   ],
   "source": [
    "# print the value\n",
    "print(pop_growth_min)"
   ]
  },
  {
   "cell_type": "code",
   "execution_count": 53,
   "metadata": {},
   "outputs": [
    {
     "data": {
      "text/plain": [
       "0.0"
      ]
     },
     "execution_count": 53,
     "metadata": {},
     "output_type": "execute_result"
    }
   ],
   "source": [
    "# fetch the value to the tuple and print the result\n",
    "pop_growth_min_final = pop_growth_min[0][0]\n",
    "pop_growth_min_final"
   ]
  },
  {
   "cell_type": "code",
   "execution_count": 54,
   "metadata": {},
   "outputs": [
    {
     "data": {
      "text/plain": [
       "14.89"
      ]
     },
     "execution_count": 54,
     "metadata": {},
     "output_type": "execute_result"
    }
   ],
   "source": [
    "# MAXIMUM of death_rate\n",
    "death_rate_max = connection.execute('select max(death_rate) from facts;').fetchall()\n",
    "death_rate_max_final = death_rate_max[0][0]\n",
    "death_rate_max_final"
   ]
  },
  {
   "cell_type": "markdown",
   "metadata": {},
   "source": [
    "# find the minimum and maximum values of a column in sql"
   ]
  },
  {
   "cell_type": "code",
   "execution_count": 55,
   "metadata": {},
   "outputs": [
    {
     "data": {
      "text/plain": [
       "128584834"
      ]
     },
     "execution_count": 55,
     "metadata": {},
     "output_type": "execute_result"
    }
   ],
   "source": [
    "# SUM of area_land\n",
    "sum_area_land = connection.execute('select sum(area_land) from facts;').fetchall()\n",
    "sum_area_land_final = sum_area_land[0][0]\n",
    "sum_area_land_final"
   ]
  },
  {
   "cell_type": "code",
   "execution_count": 56,
   "metadata": {},
   "outputs": [
    {
     "data": {
      "text/plain": [
       "19067.59259259259"
      ]
     },
     "execution_count": 56,
     "metadata": {},
     "output_type": "execute_result"
    }
   ],
   "source": [
    "# AVERAGE of area_water\n",
    "avg_area_water = connection.execute('select avg(area_water) from facts;').fetchall()\n",
    "avg_area_water_final = avg_area_water[0][0]\n",
    "avg_area_water_final"
   ]
  },
  {
   "cell_type": "code",
   "execution_count": 57,
   "metadata": {},
   "outputs": [
    {
     "data": {
      "text/plain": [
       "19067.59"
      ]
     },
     "execution_count": 57,
     "metadata": {},
     "output_type": "execute_result"
    }
   ],
   "source": [
    "# Round the avg_area_water_final\n",
    "avg_area_water_2 = connection.execute('select round(avg(area_water),2) from facts;').fetchall()\n",
    "avg_area_water_rounded = avg_area_water_2[0][0]\n",
    "avg_area_water_rounded"
   ]
  },
  {
   "cell_type": "markdown",
   "metadata": {},
   "source": [
    "# Combine many functions"
   ]
  },
  {
   "cell_type": "code",
   "execution_count": 58,
   "metadata": {},
   "outputs": [
    {
     "data": {
      "text/plain": [
       "(261, 1783.2500000000002, 1.2009745762711865)"
      ]
     },
     "execution_count": 58,
     "metadata": {},
     "output_type": "execute_result"
    }
   ],
   "source": [
    "# Number of row from the database, sum of death rate, average of population growth\n",
    "comb_func = connection.execute('select count(*), sum(death_rate), avg(population_growth) from facts;').fetchall()\n",
    "comb_func_final = comb_func[0]\n",
    "comb_func_final"
   ]
  },
  {
   "cell_type": "markdown",
   "metadata": {},
   "source": [
    "### method 1 to fetch all the value"
   ]
  },
  {
   "cell_type": "code",
   "execution_count": 63,
   "metadata": {},
   "outputs": [
    {
     "name": "stdout",
     "output_type": "stream",
     "text": [
      "The number of row is 261\n"
     ]
    }
   ],
   "source": [
    "#Count of row\n",
    "number_of_row = comb_func_final[0]\n",
    "print('The number of row is',number_of_row)"
   ]
  },
  {
   "cell_type": "code",
   "execution_count": 64,
   "metadata": {},
   "outputs": [
    {
     "name": "stdout",
     "output_type": "stream",
     "text": [
      "The sum_of_death_rate is 1783.2500000000002\n"
     ]
    }
   ],
   "source": [
    "#SUM of death rate\n",
    "sum_of_death_rate = comb_func_final[1]\n",
    "print('The sum_of_death_rate is',sum_of_death_rate)"
   ]
  },
  {
   "cell_type": "code",
   "execution_count": 65,
   "metadata": {},
   "outputs": [
    {
     "name": "stdout",
     "output_type": "stream",
     "text": [
      "The average of population growth is 1.2009745762711865\n"
     ]
    }
   ],
   "source": [
    "#AVERAGE of population growth\n",
    "avg_of_popGrowth = comb_func_final[2]\n",
    "print('The average of population growth is',avg_of_popGrowth)"
   ]
  },
  {
   "cell_type": "markdown",
   "metadata": {},
   "source": [
    "### methode 2 to fetch all the value (most effective method)"
   ]
  },
  {
   "cell_type": "code",
   "execution_count": 66,
   "metadata": {},
   "outputs": [],
   "source": [
    "count_row =  comb_func[0][0]\n",
    "sum_death_rate =  comb_func[0][1]\n",
    "mean_pop =  comb_func[0][2]"
   ]
  },
  {
   "cell_type": "code",
   "execution_count": 67,
   "metadata": {},
   "outputs": [
    {
     "name": "stdout",
     "output_type": "stream",
     "text": [
      "number of row =  261 ; sum of death =  1783.2500000000002 ; mean of population growth =  1.2009745762711865\n"
     ]
    }
   ],
   "source": [
    "print(\"number of row = \",count_row,\"; sum of death = \",sum_death_rate,\"; mean of population growth = \",mean_pop)"
   ]
  },
  {
   "cell_type": "markdown",
   "metadata": {},
   "source": [
    "# Associate calculation functions with the where condition"
   ]
  },
  {
   "cell_type": "code",
   "execution_count": 68,
   "metadata": {},
   "outputs": [
    {
     "name": "stdout",
     "output_type": "stream",
     "text": [
      "1.4572222222222226\n"
     ]
    }
   ],
   "source": [
    "# population growth average where population are more than 10000000.\n",
    "pop_query = connection.execute(\"select avg(population_growth) from facts where population > 10000000;\").fetchall()\n",
    "population_growth = pop_query[0][0]\n",
    "print(population_growth)"
   ]
  },
  {
   "cell_type": "markdown",
   "metadata": {},
   "source": [
    "# Select single items or data"
   ]
  },
  {
   "cell_type": "code",
   "execution_count": 69,
   "metadata": {},
   "outputs": [
    {
     "name": "stdout",
     "output_type": "stream",
     "text": [
      "[(38.57,), (12.92,), (23.67,), (8.13,), (38.78,), (15.85,), (16.64,), (13.61,), (12.15,), (9.41,), (15.5,), (13.66,), (21.14,), (11.87,), (10.7,), (11.41,), (24.68,), (36.02,), (17.78,), (22.76,), (8.87,), (20.96,), (14.46,), (17.32,), (8.92,), (42.03,), (18.39,), (42.01,), (23.83,), (36.17,), (10.28,), (20.33,), (35.08,), (36.6,), (13.83,), (12.49,), (16.47,), (27.84,), (34.88,), (35.85,), (15.91,), (28.67,), (9.45,), (9.9,), (9.63,), (10.27,), (23.65,), (15.41,), (18.73,), (18.51,), (22.9,), (16.46,), (33.31,), (30.0,), (10.51,), (37.27,), (19.43,), (10.72,), (12.38,), (34.49,), (30.86,), (12.74,), (8.47,), (31.09,), (8.66,), (16.03,), (24.89,), (35.74,), (33.38,), (15.59,), (22.31,), (23.14,), (9.16,), (13.91,), (19.55,), (16.72,), (17.99,), (31.45,), (14.84,), (18.48,), (8.74,), (18.16,), (7.93,), (25.37,), (19.15,), (26.4,), (21.46,), (14.52,), (8.19,), (None,), (19.91,), (22.98,), (24.25,), (10.0,), (14.59,), (25.47,), (34.41,), (18.03,), (10.45,), (10.1,), (11.37,), (11.55,), (32.61,), (41.56,), (19.71,), (15.75,), (44.99,), (10.18,), (25.6,), (31.34,), (13.29,), (18.78,), (20.54,), (12.0,), (6.65,), (20.25,), (10.42,), (18.2,), (38.58,), (19.8,), (24.95,), (20.64,), (10.83,), (13.33,), (45.45,), (37.64,), (12.14,), (24.44,), (22.58,), (11.05,), (18.32,), (24.38,), (16.37,), (18.28,), (24.27,), (9.74,), (9.27,), (9.84,), (9.14,), (11.6,), (33.75,), (13.5,), (13.7,), (13.57,), (20.87,), (8.63,), (34.23,), (34.52,), (9.08,), (14.19,), (37.03,), (8.27,), (9.91,), (8.42,), (25.77,), (40.45,), (20.75,), (36.91,), (9.64,), (29.19,), (16.34,), (24.67,), (11.99,), (10.5,), (22.17,), (36.39,), (11.19,), (34.16,), (34.13,), (23.0,), (13.46,), (16.33,), (19.4,), (23.74,), (43.79,), (15.43,), (12.17,), (13.07,), (17.0,), (25.04,), (19.16,), (15.96,), (29.98,), (42.13,), (32.26,), (10.2,), (9.23,), (8.88,), (13.77,), (14.48,), (15.22,), (15.33,), (7.42,), (13.45,), (12.56,), (13.8,), (13.0,), (14.33,), (12.67,), (11.33,), (10.91,), (12.11,), (10.9,), (14.08,), (11.91,), (11.1,), (11.26,), (9.88,), (16.13,), (22.89,), (16.82,), (10.86,), (10.31,), (31.11,), (22.99,), (30.24,), (18.6,)]\n"
     ]
    }
   ],
   "source": [
    "unique_birth_rates = connection.execute(\"select distinct birth_rate from facts;\").fetchall()\n",
    "print(unique_birth_rates)"
   ]
  },
  {
   "cell_type": "markdown",
   "metadata": {},
   "source": [
    "# Calculate for each country the number of inhabitants that will be the following year\n",
    "\n"
   ]
  },
  {
   "cell_type": "code",
   "execution_count": 70,
   "metadata": {},
   "outputs": [
    {
     "name": "stdout",
     "output_type": "stream",
     "text": [
      "[(108113615.44,), (3938061.4,), (112299751.44,), (95849.6,), (74183834.34,), (207056.64,), (83823539.98,), (3514839.3,), (47094598.980000004,), (13431602.5,), (19170328.8,), (600504.4500000001,), (4591950.33,), (439290137.0,), (380691.24,), (11507626.799999999,), (19930192.48,), (996949.03,), (39495885.66,), (1565449.0900000003,), (27650257.92,), (4369772.149999999,), (4823808.99,), (361539867.24,), (1125672.52,), (11355290.940000001,), (76294694.57999998,), (113203614.05999999,), (45976941.279999994,), (40528590.480000004,), (85223792.61999999,), (61424713.0,), (1288543.4800000002,), (16875517.07,), (33614907.839999996,), (31865033.199999996,), (1982853812.6,), (95342925.12,), (2163289.67,), (273844219.2,), (14265291.0,), (10687399.68,), (67789328.82000001,), (5045273.72,), (12686147.95,), (2889748.7099999995,), (12348016.719999999,), (6809433.66,), (2650636.8000000003,), (89064.47,), (23367625.88,), (37290730.6,), (246879834.84,), (7676687.5,), (2600007.9299999997,), (21214989.25,), (1961401.0,), (386922035.91,), (1518679.63,), (7667690.8,), (95171885.38,), (4996634.4799999995,), (6217960.44,), (5325724.08,), (94599657.36,), (83721923.82000001,), (10883399.43,), (163827.12,), (42071577.18000001,), (42761988.06,), (5023154.7,), (749926.4400000001,), (21938741.23,), (23441083.639999997,), (12075000.02,), (733538.78,), (2778764196.4799995,), (491507854.08,), (180013394.0,), (145630744.17000002,), (11007686.25,), (20606243.84,), (78556002.4,), (4956352.800000001,), (147226804.44,), (14855142.120000001,), (38856241.07999999,), (134561131.92999998,), (227278.65,), (38224303.65,), (55991323.440000005,), (None,), (7305959.08,), (11953021.290000001,), (17624437.2,), (4092612.3000000003,), (11503543.86,), (2570965.3200000003,), (14558961.020000001,), (20710036.48,), (69228.15999999999,), (5884243.32,), (1784888.76,), (2515218.0,), (85249397.98,), (77607491.04,), (74453789.12,), (424713.24000000005,), (67483033.28,), (542294.15,), (192028.06,), (11617347.459999999,), (2197316.2800000003,), (265386243.61999997,), (153615.36,), (7200099.410000001,), (34199.200000000004,), (6913617.48,), (918843.6599999999,), (66645398.0,), (87295739.85000001,), (3517568.13,), (14787.0,), (88028140.95,), (23896544.639999997,), (8077875.259999999,), (11815762.0,), (76694348.25,), (626389093.2,), (11092377.57,), (10090893.52,), (489751183.62,), (29345.699999999997,), (8484295.680000002,), (18549352.62,), (14651867.520000001,), (59976648.03,), (263605761.36000004,), (42032786.010000005,), (11799586.81,), (8932905.190000001,), (28166255.0,), (148120723.92000002,), (45075769.480000004,), (91407.36,), (219655.48,), (131362.56,), (312481.34,), (60096.399999999994,), (550977.0399999999,), (68270697.36,), (48216627.300000004,), (10478119.24,), (169146.9,), (19694978.3,), (16399224.079999998,), (5553927.54,), (2499099.12,), (1879856.3800000001,), (30044355.400000002,), (125064061.79,), (60455408.199999996,), (90996193.26,), (40578417.919999994,), (98216080.16,), (1205636.6400000001,), (3029143.4300000006,), (17642908.8,), (13888329.299999999,), (19795230.639999997,), (22200206.18,), (193463892.78,), (91088382.7,), (4210416.72,), (27868053.419999998,), (109696.03,), (1381270.19,), (20860355.25,), (179476247.94,), (11195243.079999998,), (19781.579999999998,), (157311398.8,), (71087153.60000001,), (20691540.8,), (98695861.88,), (572036577.92,), (4244204.11,), (56355888.06,), (803178.8,), (842.0,), (69968349.39999999,), (185867204.95,), (92778489.99000001,), (58457112.08,), (45676826.61,), (28800604.98,), (642436806.25,), (None,), (3228.3000000000006,), (596.0,), (None,), (None,), (2232.1,), (9854726.28,), (1066915.8,), (75795.96,), (57733.0,), (None,), (548443.82,), (None,), (646443.7,), (None,), (None,), (11766.560000000001,), (20765.29,), (261337.46000000002,), (212220.58,), (99619.38999999998,), (38860.1,), (1225.7,), (1350.3700000000001,), (None,), (None,), (1928.16,), (None,), (49746.53999999999,), (105294.0,), (None,), (111067.28,), (173885.2,), (None,), (3394.61,), (36279.92,), (88547.20000000001,), (175129.2,), (154079.2,), (7861.5,), (48.0,), (9665.8,), (None,), (165924.0,), (70645.90000000001,), (249148.9,), (None,), (166453.92,), (5757371.2,), (164682.65999999997,), (None,), (None,), (None,), (7121099.55,), (None,), (None,), (8216829.7,), (2180708.12,), (None,), (None,), (None,), (None,), (None,), (15093499222.880001,)]\n"
     ]
    }
   ],
   "source": [
    "pop_next_year = connection.execute(\"select population * (population_growth + 1) from facts;\").fetchall()\n",
    "print(pop_next_year)"
   ]
  },
  {
   "cell_type": "markdown",
   "metadata": {},
   "source": [
    "# Calcul average"
   ]
  },
  {
   "cell_type": "code",
   "execution_count": 71,
   "metadata": {},
   "outputs": [
    {
     "name": "stdout",
     "output_type": "stream",
     "text": [
      "[(62094928.32231405, 1.2009745762711865, 19.32855263157894, 7.8212719298245625)]\n"
     ]
    }
   ],
   "source": [
    "#Calculation of averages on the facts table of the database\n",
    "#En sql, calculons les moyennes des colonnes population, population_growth,birth_rate & death_rate\n",
    "import sqlite3\n",
    "connexion = sqlite3.connect('factbook.db')\n",
    "averages = connexion.execute('select avg(population) ,avg(population_growth) ,avg(birth_rate), avg(death_rate) from facts;').fetchall()\n",
    "print(averages)"
   ]
  },
  {
   "cell_type": "code",
   "execution_count": 72,
   "metadata": {},
   "outputs": [
    {
     "name": "stdout",
     "output_type": "stream",
     "text": [
      "pop_avg = 62094928.32231405\n",
      "pop_growth_avg = 1.2009745762711865\n",
      "birth_rate_avg = 19.32855263157894\n",
      "death_rate_avg = 7.8212719298245625\n"
     ]
    }
   ],
   "source": [
    "# Fetchall the values\n",
    "pop_avg = averages[0][0]\n",
    "pop_growth_avg = averages[0][1]\n",
    "birth_rate_avg = averages[0][2]\n",
    "death_rate_avg = averages[0][3]\n",
    "print(\"pop_avg =\", pop_avg)\n",
    "print(\"pop_growth_avg =\",pop_growth_avg)\n",
    "print(\"birth_rate_avg =\", birth_rate_avg)\n",
    "print(\"death_rate_avg =\",death_rate_avg)"
   ]
  },
  {
   "cell_type": "markdown",
   "metadata": {},
   "source": [
    "# Predict future population growth\n"
   ]
  },
  {
   "cell_type": "markdown",
   "metadata": {},
   "source": [
    "- return the values of the estimated population the following year"
   ]
  },
  {
   "cell_type": "code",
   "execution_count": 73,
   "metadata": {},
   "outputs": [
    {
     "data": {
      "text/plain": [
       "[(33319835.0,),\n",
       " (3038366.0,),\n",
       " (40269742.0,),\n",
       " (85683.0,),\n",
       " (20170938.0,),\n",
       " (93582.0,),\n",
       " (43835803.0,),\n",
       " (3060967.0,),\n",
       " (22994450.0,),\n",
       " (8713211.0,)]"
      ]
     },
     "metadata": {},
     "output_type": "display_data"
    }
   ],
   "source": [
    "projected_population_query = \"select round(population * (population_growth/100) + population,0) as projected_population FROM facts where population is NOT NULL and population_growth is not NULL and population > 0 and population < 7000000000;\"\n",
    "projected_population = connexion.execute(projected_population_query).fetchall()\n",
    "display(projected_population[0:10])"
   ]
  },
  {
   "cell_type": "markdown",
   "metadata": {},
   "source": [
    "# Explore more demographic estimates"
   ]
  },
  {
   "cell_type": "markdown",
   "metadata": {},
   "source": [
    "- Write an SQL query that returns:\n",
    "    - The minimum value of thepopulation estimate\n",
    "    - The maximum value of the population estimate\n",
    "    - The Average of the population estimate\n",
    "    \n",
    "    \n",
    "- Show the result"
   ]
  },
  {
   "cell_type": "code",
   "execution_count": 74,
   "metadata": {},
   "outputs": [
    {
     "name": "stdout",
     "output_type": "stream",
     "text": [
      "population estimate, Minimum: 48.0\n",
      "population estimate, Maximum: 1373639072.0\n",
      "population estimate, Average: 33405469.0\n"
     ]
    }
   ],
   "source": [
    "proj_pop_query = \"select min(round(population * (population_growth/100) + population,0)), max(round(population * (population_growth/100) + population,0)), round(avg(population * (population_growth/100) + population),0) FROM facts where population is NOT NULL and population_growth is not NULL and population > 0 and population < 7000000000 ;\"\n",
    "proj_resuts = connexion.execute(proj_pop_query).fetchall()\n",
    "pop_proj_min = proj_resuts[0][0]\n",
    "pop_proj_max = proj_resuts[0][1]\n",
    "pop_proj_avg = proj_resuts[0][2]\n",
    "print(\"population estimate,\",\"Minimum:\", pop_proj_min)\n",
    "print(\"population estimate,\",\"Maximum:\", pop_proj_max)\n",
    "print(\"population estimate,\",\"Average:\", pop_proj_avg)\n"
   ]
  },
  {
   "cell_type": "markdown",
   "metadata": {},
   "source": [
    "# Query on a standardized database"
   ]
  },
  {
   "cell_type": "code",
   "execution_count": 86,
   "metadata": {},
   "outputs": [
    {
     "name": "stdout",
     "output_type": "stream",
     "text": [
      "('Black Swan', 2010)\n",
      "('Closer', 2004)\n"
     ]
    }
   ],
   "source": [
    "import sqlite3\n",
    "connection = sqlite3.connect('academy_awards.db')\n",
    "portman_query = \"select movie, year from nominations inner join ceremonies on nominations.ceremony_id = ceremonies.id where nominee = 'Natalie Portman';\"\n",
    "portman_movies = connection.execute(portman_query).fetchall()\n",
    "\n",
    "for i in portman_movies:\n",
    "    print(i)"
   ]
  },
  {
   "cell_type": "code",
   "execution_count": 88,
   "metadata": {},
   "outputs": [],
   "source": [
    "connection.close()"
   ]
  },
  {
   "cell_type": "markdown",
   "metadata": {},
   "source": [
    "                                                                                                                 END"
   ]
  }
 ],
 "metadata": {
  "kernelspec": {
   "display_name": "Python 3",
   "language": "python",
   "name": "python3"
  },
  "language_info": {
   "codemirror_mode": {
    "name": "ipython",
    "version": 3
   },
   "file_extension": ".py",
   "mimetype": "text/x-python",
   "name": "python",
   "nbconvert_exporter": "python",
   "pygments_lexer": "ipython3",
   "version": "3.6.9"
  }
 },
 "nbformat": 4,
 "nbformat_minor": 2
}
